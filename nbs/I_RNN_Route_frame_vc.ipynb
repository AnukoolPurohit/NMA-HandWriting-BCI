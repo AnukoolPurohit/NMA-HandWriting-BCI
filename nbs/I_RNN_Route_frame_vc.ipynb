{
 "cells": [
  {
   "cell_type": "markdown",
   "metadata": {
    "colab_type": "text",
    "id": "view-in-github"
   },
   "source": [
    "<a href=\"https://colab.research.google.com/github/PrakritiNayak/NMA-HandWriting-BCI/blob/main/I_RNN_Route_frame_vc.ipynb\" target=\"_parent\"><img src=\"https://colab.research.google.com/assets/colab-badge.svg\" alt=\"Open In Colab\"/></a>"
   ]
  },
  {
   "cell_type": "code",
   "execution_count": null,
   "metadata": {
    "id": "wvgT2kYZVAmZ"
   },
   "outputs": [],
   "source": [
    "from google.colab import drive\n",
    "drive.mount('/content/drive')"
   ]
  },
  {
   "cell_type": "code",
   "execution_count": null,
   "metadata": {
    "id": "nhRB84YPACQC"
   },
   "outputs": [],
   "source": [
    "# %cd /content/gdrive/My Drive/Github #when github is linked"
   ]
  },
  {
   "cell_type": "code",
   "execution_count": null,
   "metadata": {
    "colab": {
     "base_uri": "https://localhost:8080/"
    },
    "id": "KUM1R9hUyYfZ",
    "outputId": "cbf1b93e-b397-4fbe-8dce-240a27c782c5"
   },
   "outputs": [
    {
     "name": "stdout",
     "output_type": "stream",
     "text": [
      "Requirement already satisfied: kaggle in /usr/local/lib/python3.7/dist-packages (1.5.12)\n",
      "Requirement already satisfied: certifi in /usr/local/lib/python3.7/dist-packages (from kaggle) (2021.5.30)\n",
      "Requirement already satisfied: tqdm in /usr/local/lib/python3.7/dist-packages (from kaggle) (4.62.0)\n",
      "Requirement already satisfied: python-slugify in /usr/local/lib/python3.7/dist-packages (from kaggle) (5.0.2)\n",
      "Requirement already satisfied: python-dateutil in /usr/local/lib/python3.7/dist-packages (from kaggle) (2.8.2)\n",
      "Requirement already satisfied: urllib3 in /usr/local/lib/python3.7/dist-packages (from kaggle) (1.24.3)\n",
      "Requirement already satisfied: requests in /usr/local/lib/python3.7/dist-packages (from kaggle) (2.23.0)\n",
      "Requirement already satisfied: six>=1.10 in /usr/local/lib/python3.7/dist-packages (from kaggle) (1.15.0)\n",
      "Requirement already satisfied: text-unidecode>=1.3 in /usr/local/lib/python3.7/dist-packages (from python-slugify->kaggle) (1.3)\n",
      "Requirement already satisfied: chardet<4,>=3.0.2 in /usr/local/lib/python3.7/dist-packages (from requests->kaggle) (3.0.4)\n",
      "Requirement already satisfied: idna<3,>=2.5 in /usr/local/lib/python3.7/dist-packages (from requests->kaggle) (2.10)\n"
     ]
    }
   ],
   "source": [
    "! pip install kaggle"
   ]
  },
  {
   "cell_type": "code",
   "execution_count": null,
   "metadata": {
    "id": "d4KPl5T_y0BJ"
   },
   "outputs": [],
   "source": [
    "! mkdir ~/.kaggle"
   ]
  },
  {
   "cell_type": "code",
   "execution_count": null,
   "metadata": {
    "id": "1_r4H4ovy3fb"
   },
   "outputs": [],
   "source": [
    "! cp /content/drive/MyDrive/kaggle.json ~/.kaggle/kaggle.json"
   ]
  },
  {
   "cell_type": "code",
   "execution_count": null,
   "metadata": {
    "id": "_FZ0Nvppy7pa"
   },
   "outputs": [],
   "source": [
    "! chmod 600 ~/.kaggle/kaggle.json"
   ]
  },
  {
   "cell_type": "code",
   "execution_count": null,
   "metadata": {
    "id": "A2hdcFk4zCSl"
   },
   "outputs": [],
   "source": [
    "! kaggle datasets download saurabhshahane/handwriting-bci #entire dataset\n",
    "#! kaggle datasets download saurabhshahane/handwriting-bci -f 'file name.extension' #specific data"
   ]
  },
  {
   "cell_type": "code",
   "execution_count": null,
   "metadata": {
    "id": "dphrIW9A0-Kl"
   },
   "outputs": [],
   "source": [
    "'visualise"
   ]
  },
  {
   "cell_type": "code",
   "execution_count": null,
   "metadata": {
    "id": "6PDsiMiVnqSX"
   },
   "outputs": [],
   "source": [
    "import numpy as np\n",
    "import matplotlib.pyplot as plt\n",
    "from scipy.io import loadmat\n",
    "\n",
    "import torch\n",
    "import torch.nn as nn\n",
    "from torch.nn import functional as F"
   ]
  },
  {
   "cell_type": "code",
   "execution_count": null,
   "metadata": {
    "id": "rFQyZCbwXxeY"
   },
   "outputs": [],
   "source": [
    "device = torch.device('cuda' if torch.cuda.is_available() else 'cpu')"
   ]
  },
  {
   "cell_type": "code",
   "execution_count": null,
   "metadata": {
    "id": "ur15XniHC5n9"
   },
   "outputs": [],
   "source": [
    "'prepare data here\n",
    "'create train val test"
   ]
  },
  {
   "cell_type": "code",
   "execution_count": null,
   "metadata": {
    "id": "sO2qH8BGDADX"
   },
   "outputs": [],
   "source": [
    "#  #rnn architechture\n",
    "#  class RNN:\n",
    "#    def _init_(self, hidden_dim, output_dim, seq_length, learning_rate):\n",
    "#      #hyperparameters\n",
    "#      self.learning_rate =     \n",
    "#      self.seq_length =                \n",
    "#      self.hidden_dim =          \n",
    "#      self.output_dim = \n",
    "#      #model parameters\n",
    "#      self.U = np.random.uniform(hidden_dim, T) #between input and hidden layers ## or torch.randn?\n",
    "#      self.W = np.random.uniform(hidden_dim, hidden_dim) #shared weights in the hidden layer\n",
    "#      self.V = np.random.uniform(output_dim, hidden_dim) #between hidden and output layers\n",
    "#      self.b = #bias for hidden layer"
   ]
  },
  {
   "cell_type": "code",
   "execution_count": null,
   "metadata": {
    "id": "RkH69RCeX90u"
   },
   "outputs": [],
   "source": [
    "#Predict and compare seq-to-seq, bidirectional? > better predictive power\n",
    "class Net(nn.Module):\n",
    "  def __init__(self, ncomp, NN1, NN2, hidden_dim, output_dim, learning_rate, bidi=True):\n",
    "    super(Net, self).__init__()\n",
    "   \n",
    "    self.learning_rate = lr                  \n",
    "    self.hidden_dim =          \n",
    "    self.output_dim = \n",
    "    self.rnn = nn.RNN(NN1, ncomp, num_layers = 1, dropout = 0,\n",
    "                      bidirectional = bidi, nonlinearity = '') #choose nonlinearity\n",
    "    self.fc = nn.Linear(ncomp, NN2)\n",
    "\n",
    "  def forward(self, x):\n",
    "\n",
    "    y = self.rnn(x)[0]\n",
    "\n",
    "    if self.rnn.bidirectional:\n",
    "      q = (y[:, :, :ncomp] + y[:, :, ncomp:])/2 #adding forward and backward activations\n",
    "    else:\n",
    "      q = y\n",
    "\n",
    "    z = F.softplus(self.fc(q), 10) #softmax avoids the prediction of 0 in the presense of spike?\n",
    "\n",
    "    return z, q"
   ]
  },
  {
   "cell_type": "code",
   "execution_count": null,
   "metadata": {
    "id": "OV9m2zmAYamq"
   },
   "outputs": [],
   "source": [
    "# separate spike data into input and output\n",
    "x0 = torch.from_numpy(x[:, :, :'?']).to(device).float() #Fill ques\n",
    "x1 = torch.from_numpy(x[:, :, '?':]).to(device).float()\n",
    "\n",
    "NN1 = x1.shape[-1]\n",
    "NN2 = x0.shape[-1]\n",
    "\n",
    "# initialize the neural network\n",
    "net = Net(ncomp, NN1, NN2, bidi = True).to(device)\n",
    "\n",
    "\n",
    "net.fc.bias.data[:] = x1.mean((0,1)) #initialising bias of last layer - mean firiing rate (?)\n",
    "\n",
    "optimizer = torch.optim.Adam(net.parameters(), lr=.005)"
   ]
  },
  {
   "cell_type": "code",
   "execution_count": null,
   "metadata": {
    "id": "nWRd2cxZF3o-"
   },
   "outputs": [],
   "source": [
    "'Check the loss on training data\n",
    "\n",
    "'Forward Pass\n",
    "'Calculate Error\n",
    "'Check the loss on validation data\n",
    "'Forward Pass\n",
    "'Calculate Error\n",
    "'Start actual training\n",
    "'Forward Pass\n",
    "'Backpropagate Error\n",
    "'Update weights"
   ]
  }
 ],
 "metadata": {
  "colab": {
   "authorship_tag": "ABX9TyNg8rYWhYWUVLcQwyhVSChE",
   "include_colab_link": true,
   "mount_file_id": "1fdRZS8BaYprDZvFVYTPuPTkZXe788Y4p",
   "name": "Copy of I - RNN Route frame vc.ipynb",
   "provenance": []
  },
  "kernelspec": {
   "display_name": "Python 3",
   "language": "python",
   "name": "python3"
  },
  "language_info": {
   "codemirror_mode": {
    "name": "ipython",
    "version": 3
   },
   "file_extension": ".py",
   "mimetype": "text/x-python",
   "name": "python",
   "nbconvert_exporter": "python",
   "pygments_lexer": "ipython3",
   "version": "3.6.13"
  },
  "toc": {
   "base_numbering": 1,
   "nav_menu": {},
   "number_sections": true,
   "sideBar": true,
   "skip_h1_title": false,
   "title_cell": "Table of Contents",
   "title_sidebar": "Contents",
   "toc_cell": false,
   "toc_position": {},
   "toc_section_display": true,
   "toc_window_display": false
  }
 },
 "nbformat": 4,
 "nbformat_minor": 1
}
