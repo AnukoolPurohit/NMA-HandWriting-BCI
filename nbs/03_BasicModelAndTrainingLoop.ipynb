{
 "cells": [
  {
   "cell_type": "code",
   "execution_count": 1,
   "id": "0e2fe934",
   "metadata": {},
   "outputs": [],
   "source": [
    "%reload_ext autoreload\n",
    "%autoreload 2\n",
    "%matplotlib inline"
   ]
  },
  {
   "cell_type": "code",
   "execution_count": 2,
   "id": "e6a23d6c",
   "metadata": {},
   "outputs": [],
   "source": [
    "import sys\n",
    "sys.path.append(\"/home/anukoolpurohit/Documents/Workspace/Nueromatch/NMA-DL/HandwritingBCI\")"
   ]
  },
  {
   "cell_type": "markdown",
   "id": "3aafb00b",
   "metadata": {},
   "source": [
    "# Imports"
   ]
  },
  {
   "cell_type": "code",
   "execution_count": 3,
   "id": "530813da",
   "metadata": {},
   "outputs": [],
   "source": [
    "import torch\n",
    "import numpy as np\n",
    "import matplotlib.pyplot as plt"
   ]
  },
  {
   "cell_type": "code",
   "execution_count": 4,
   "id": "7814da38",
   "metadata": {},
   "outputs": [],
   "source": [
    "import torch.nn.functional as F"
   ]
  },
  {
   "cell_type": "code",
   "execution_count": 5,
   "id": "472904b1",
   "metadata": {},
   "outputs": [],
   "source": [
    "from torch import nn\n",
    "from scipy.io import loadmat\n",
    "from torch.utils.data import Dataset, DataLoader, random_split"
   ]
  },
  {
   "cell_type": "code",
   "execution_count": 6,
   "id": "779955e1",
   "metadata": {},
   "outputs": [
    {
     "ename": "ImportError",
     "evalue": "cannot import name 'get_neuro_dataloaders'",
     "output_type": "error",
     "traceback": [
      "\u001b[0;31m---------------------------------------------------------------------------\u001b[0m",
      "\u001b[0;31mImportError\u001b[0m                               Traceback (most recent call last)",
      "\u001b[0;32m<ipython-input-6-e5f6c40f4f2d>\u001b[0m in \u001b[0;36m<module>\u001b[0;34m\u001b[0m\n\u001b[1;32m      1\u001b[0m \u001b[0;32mfrom\u001b[0m \u001b[0mhandwritingBCI\u001b[0m \u001b[0;32mimport\u001b[0m \u001b[0mPath\u001b[0m\u001b[0;34m\u001b[0m\u001b[0;34m\u001b[0m\u001b[0m\n\u001b[1;32m      2\u001b[0m \u001b[0;32mfrom\u001b[0m \u001b[0mhandwritingBCI\u001b[0m\u001b[0;34m.\u001b[0m\u001b[0mdata\u001b[0m\u001b[0;34m.\u001b[0m\u001b[0mutils\u001b[0m\u001b[0;34m.\u001b[0m\u001b[0mfiles\u001b[0m \u001b[0;32mimport\u001b[0m \u001b[0mget_dataset\u001b[0m\u001b[0;34m\u001b[0m\u001b[0;34m\u001b[0m\u001b[0m\n\u001b[0;32m----> 3\u001b[0;31m \u001b[0;32mfrom\u001b[0m \u001b[0mhandwritingBCI\u001b[0m\u001b[0;34m.\u001b[0m\u001b[0mdata\u001b[0m\u001b[0;34m.\u001b[0m\u001b[0mutils\u001b[0m\u001b[0;34m.\u001b[0m\u001b[0mdataloader\u001b[0m \u001b[0;32mimport\u001b[0m \u001b[0mget_neuro_dataloaders\u001b[0m\u001b[0;34m\u001b[0m\u001b[0;34m\u001b[0m\u001b[0m\n\u001b[0m\u001b[1;32m      4\u001b[0m \u001b[0;32mfrom\u001b[0m \u001b[0mhandwritingBCI\u001b[0m\u001b[0;34m.\u001b[0m\u001b[0mdata\u001b[0m\u001b[0;34m.\u001b[0m\u001b[0mdatasets\u001b[0m \u001b[0;32mimport\u001b[0m \u001b[0mNeuroDataset\u001b[0m\u001b[0;34m\u001b[0m\u001b[0;34m\u001b[0m\u001b[0m\n\u001b[1;32m      5\u001b[0m \u001b[0;32mfrom\u001b[0m \u001b[0mhandwritingBCI\u001b[0m\u001b[0;34m.\u001b[0m\u001b[0mdata\u001b[0m\u001b[0;34m.\u001b[0m\u001b[0mpreprocessing\u001b[0m \u001b[0;32mimport\u001b[0m \u001b[0mLabelEncoder\u001b[0m\u001b[0;34m\u001b[0m\u001b[0;34m\u001b[0m\u001b[0m\n",
      "\u001b[0;31mImportError\u001b[0m: cannot import name 'get_neuro_dataloaders'"
     ]
    }
   ],
   "source": [
    "from handwritingBCI import Path\n",
    "from handwritingBCI.data.utils.files import get_dataset\n",
    "from handwritingBCI.data.utils.dataloader import get_neuro_dataloaders\n",
    "from handwritingBCI.data.datasets import NeuroDataset\n",
    "from handwritingBCI.data.preprocessing import LabelEncoder\n",
    "from handwritingBCI.plotting import plot_electrode_data"
   ]
  },
  {
   "cell_type": "markdown",
   "id": "c4cee29f",
   "metadata": {},
   "source": [
    "# Setup"
   ]
  },
  {
   "cell_type": "markdown",
   "id": "9335a13c",
   "metadata": {},
   "source": [
    "## Seed"
   ]
  },
  {
   "cell_type": "code",
   "execution_count": null,
   "id": "583f68b4",
   "metadata": {},
   "outputs": [],
   "source": [
    "SEED = 42\n",
    "np.random.seed(SEED)"
   ]
  },
  {
   "cell_type": "markdown",
   "id": "37ee3174",
   "metadata": {},
   "source": [
    "## Data"
   ]
  },
  {
   "cell_type": "code",
   "execution_count": null,
   "id": "f990df2f",
   "metadata": {},
   "outputs": [],
   "source": [
    "PATH = Path(\"/home/anukoolpurohit/Documents/AnukoolPurohit/Datasets/HandwritingBCI/handwriting-bci/handwritingBCIData\")"
   ]
  },
  {
   "cell_type": "markdown",
   "id": "738c211c",
   "metadata": {},
   "source": [
    "# Dataset and Dataloader"
   ]
  },
  {
   "cell_type": "code",
   "execution_count": null,
   "id": "4fdaee4f",
   "metadata": {},
   "outputs": [],
   "source": [
    "neuro_dataset = NeuroDataset.from_path(PATH)"
   ]
  },
  {
   "cell_type": "code",
   "execution_count": null,
   "id": "07ae957b",
   "metadata": {},
   "outputs": [],
   "source": [
    "train_dl, valid_dl = neuro_dataset.get_dataloaders(test_size=0.1,\n",
    "                                                   batch_size=64,\n",
    "                                                   generator=torch.Generator().manual_seed(SEED))"
   ]
  },
  {
   "cell_type": "code",
   "execution_count": null,
   "id": "5b6c1ced",
   "metadata": {},
   "outputs": [],
   "source": [
    "X, y = next(iter(train_dl))"
   ]
  },
  {
   "cell_type": "code",
   "execution_count": null,
   "id": "5a79f309",
   "metadata": {},
   "outputs": [],
   "source": [
    "X.shape, y.shape"
   ]
  },
  {
   "cell_type": "code",
   "execution_count": null,
   "id": "932d772a",
   "metadata": {},
   "outputs": [],
   "source": [
    "type(X.shape)"
   ]
  },
  {
   "cell_type": "code",
   "execution_count": null,
   "id": "2579aa63",
   "metadata": {},
   "outputs": [],
   "source": [
    "torch.Size((61, 1, 201, 192))"
   ]
  },
  {
   "cell_type": "code",
   "execution_count": null,
   "id": "ef459a35",
   "metadata": {},
   "outputs": [],
   "source": [
    "X.shape == (64, 1, 201, 192)"
   ]
  },
  {
   "cell_type": "code",
   "execution_count": null,
   "id": "c6d157fb",
   "metadata": {},
   "outputs": [],
   "source": [
    "plot_electrode_data(X[0].squeeze(0), y[0])"
   ]
  },
  {
   "cell_type": "markdown",
   "id": "2dcb3058",
   "metadata": {},
   "source": [
    "## Sample model"
   ]
  },
  {
   "cell_type": "code",
   "execution_count": null,
   "id": "28b99acb",
   "metadata": {},
   "outputs": [],
   "source": [
    "class Downsample(nn.Module):\n",
    "    \"\"\"\n",
    "        Simple 2x2 conv with stride 2 and 0 padding to downsample instead of a maxpool\n",
    "    \"\"\"\n",
    "    \n",
    "    def __init__(self, input_channels: int) -> None:\n",
    "        super().__init__()\n",
    "        self.conv = nn.Conv2d(input_channels, input_channels,\n",
    "                              kernel_size=2, stride=2, padding=0)\n",
    "        self.relu = nn.ReLU()\n",
    "        return\n",
    "    \n",
    "    def forward(self, x:torch.Tensor) -> torch.Tensor:\n",
    "        x = self.conv(x)\n",
    "        output = self.relu(x)\n",
    "        return output\n",
    "        "
   ]
  },
  {
   "cell_type": "code",
   "execution_count": null,
   "id": "e0f8055e",
   "metadata": {},
   "outputs": [],
   "source": [
    "class ConvBlock(nn.Module):\n",
    "    \"\"\"\n",
    "    Simple 3x3 conv with padding size 1 (to leave the input size unchanged),\n",
    "    add a residual connection followed by a ReLU .\n",
    "    \"\"\"\n",
    "    \n",
    "    def __init__(self, input_channels:int, output_channels:int) -> None:\n",
    "        super().__init__()\n",
    "        self.conv1 = nn.Conv2d(input_channels,output_channels,\n",
    "                               kernel_size=3, stride=1, padding=1)\n",
    "        self.bn1 = nn.BatchNorm2d(output_channels)\n",
    "        \n",
    "        self.conv2 = nn.Conv2d(output_channels, output_channels,\n",
    "                               kernel_size=3, stride=1, padding=1)\n",
    "        self.bn2 = nn.BatchNorm2d(output_channels)\n",
    "        self.relu = nn.ReLU()\n",
    "        return\n",
    "    \n",
    "    def forward(self, x:torch.Tensor) -> torch.Tensor:\n",
    "        \"\"\"\n",
    "        Parameters\n",
    "        ----------\n",
    "        x\n",
    "            of dimensions (B, C, H, W)\n",
    "\n",
    "        Returns\n",
    "        -------\n",
    "        torch.Tensor\n",
    "            of dimensions (B, C, H, W)\n",
    "        \"\"\"\n",
    "        c1 = self.conv1(x)\n",
    "        c1 = self.bn1(c1)\n",
    "        r1 = self.relu(c1)\n",
    "\n",
    "        c2 = self.conv2(r1)\n",
    "        c2 = self.bn2(c2)\n",
    "        r2 = self.relu(c2 + x)\n",
    "        return r2"
   ]
  },
  {
   "cell_type": "code",
   "execution_count": null,
   "id": "487cbb06",
   "metadata": {},
   "outputs": [],
   "source": [
    "class SimpleCNN(nn.Module):\n",
    "    def __init__(self, input_shape:tuple, output_channels: int,\n",
    "                 fc_dims: int, num_classes: int, block_num:int=2) -> None:\n",
    "        super().__init__()\n",
    "        assert len(input_shape) == 3\n",
    "        input_channels = input_shape[0]\n",
    "        \n",
    "        self.conv_block1 = ConvBlock(input_channels, output_channels)\n",
    "        self.conv_block2 = ConvBlock(output_channels, output_channels)\n",
    "        self.downsample = Downsample(output_channels)\n",
    "        \n",
    "        input_fc_dims = output_channels * (input_shape[1]//2) * (input_shape[2]//2)\n",
    "        \n",
    "        self.fc1 = nn.Linear(input_fc_dims, fc_dims)\n",
    "        self.relu = nn.ReLU()\n",
    "        self.fc2 = nn.Linear(fc_dims, num_classes)\n",
    "        return\n",
    "    \n",
    "    def forward(self, x:torch.Tensor) -> torch.Tensor:\n",
    "        x = self.conv_block1(x)\n",
    "        x = self.conv_block2(x)\n",
    "        x = self.downsample(x)\n",
    "        x = x.flatten(1)\n",
    "        x = self.fc1(x)\n",
    "        x = self.relu(x)\n",
    "        x = self.fc2(x)\n",
    "        return x\n",
    "        "
   ]
  },
  {
   "cell_type": "code",
   "execution_count": null,
   "id": "45a8dbde",
   "metadata": {},
   "outputs": [],
   "source": [
    "net = SimpleCNN((1, 201, 192), 32, 64, 31)"
   ]
  },
  {
   "cell_type": "code",
   "execution_count": null,
   "id": "bcc53591",
   "metadata": {},
   "outputs": [],
   "source": [
    "net(X).shape"
   ]
  },
  {
   "cell_type": "code",
   "execution_count": null,
   "id": "2cedb923",
   "metadata": {},
   "outputs": [],
   "source": [
    "len(train_dl)"
   ]
  },
  {
   "cell_type": "code",
   "execution_count": null,
   "id": "a88bb547",
   "metadata": {},
   "outputs": [],
   "source": [
    "data, labels = get_dataset(PATH)"
   ]
  },
  {
   "cell_type": "code",
   "execution_count": null,
   "id": "08149a67",
   "metadata": {},
   "outputs": [],
   "source": [
    "data.shape, len(labels)"
   ]
  },
  {
   "cell_type": "code",
   "execution_count": null,
   "id": "c3aaea81",
   "metadata": {},
   "outputs": [],
   "source": [
    "len(valid_dl)"
   ]
  },
  {
   "cell_type": "code",
   "execution_count": null,
   "id": "12e43a92",
   "metadata": {},
   "outputs": [],
   "source": []
  }
 ],
 "metadata": {
  "kernelspec": {
   "display_name": "Python 3",
   "language": "python",
   "name": "python3"
  },
  "language_info": {
   "codemirror_mode": {
    "name": "ipython",
    "version": 3
   },
   "file_extension": ".py",
   "mimetype": "text/x-python",
   "name": "python",
   "nbconvert_exporter": "python",
   "pygments_lexer": "ipython3",
   "version": "3.6.13"
  },
  "toc": {
   "base_numbering": 1,
   "nav_menu": {},
   "number_sections": true,
   "sideBar": true,
   "skip_h1_title": false,
   "title_cell": "Table of Contents",
   "title_sidebar": "Contents",
   "toc_cell": false,
   "toc_position": {},
   "toc_section_display": true,
   "toc_window_display": false
  }
 },
 "nbformat": 4,
 "nbformat_minor": 5
}
